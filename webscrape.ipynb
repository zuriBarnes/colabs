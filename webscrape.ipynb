{
  "nbformat": 4,
  "nbformat_minor": 0,
  "metadata": {
    "colab": {
      "name": "webscrape.ipynb",
      "provenance": [],
      "collapsed_sections": [],
      "authorship_tag": "ABX9TyMgjoQiSkbMoQ109Q1A7N+B"
    },
    "kernelspec": {
      "name": "python3",
      "display_name": "Python 3"
    },
    "language_info": {
      "name": "python"
    }
  },
  "cells": [
    {
      "cell_type": "markdown",
      "source": [
        "# Python Urllib Module\n",
        "developer: Zuri Barnes\n",
        "\n",
        "zuribarnes.com\n",
        "\n",
        "code example from: https://realpython.com/"
      ],
      "metadata": {
        "id": "ZzNk8Vbn-Frq"
      }
    },
    {
      "cell_type": "code",
      "source": [
        "from urllib.request import urlopen\n",
        "url = \"http://olympus.realpython.org/profiles/aphrodite\"\n",
        "page = urlopen(url)\n",
        "html_bytes = page.read()\n",
        "html = html_bytes.decode(\"utf-8\")\n",
        "print(html)\n"
      ],
      "metadata": {
        "id": "m1U-_NTk-Yag"
      },
      "execution_count": null,
      "outputs": []
    }
  ]
}