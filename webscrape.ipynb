{
  "nbformat": 4,
  "nbformat_minor": 0,
  "metadata": {
    "colab": {
      "name": "webscrape.ipynb",
      "provenance": [],
      "collapsed_sections": [],
      "authorship_tag": "ABX9TyMgjoQiSkbMoQ109Q1A7N+B"
    },
    "kernelspec": {
      "name": "python3",
      "display_name": "Python 3"
    },
    "language_info": {
      "name": "python"
    }
  },
  "cells": [
    {
      "cell_type": "markdown",
      "source": [
        "# Python Urllib Module\n",
        "developer: Zuri Barnes\n",
        "\n",
        "zuribarnes.com\n",
        "\n",
        "code example from: https://realpython.com/"
      ],
      "metadata": {
        "id": "ZzNk8Vbn-Frq"
      }
    },
    {
      "cell_type": "code",
      "source": [
        "from urllib.request import urlopen\n",
        "url = \"http://olympus.realpython.org/profiles/aphrodite\"\n",
        "page = urlopen(url)\n",
        "html_bytes = page.read()\n",
        "html = html_bytes.decode(\"utf-8\")\n",
        "print(html)\n"
      ],
      "metadata": {
        "colab": {
          "base_uri": "https://localhost:8080/"
        },
        "id": "m1U-_NTk-Yag",
        "outputId": "452b5812-3845-4e99-8c96-d1a219318daf"
      },
      "execution_count": null,
      "outputs": [
        {
          "output_type": "stream",
          "name": "stdout",
          "text": [
            "<html>\n",
            "<head>\n",
            "<title>Profile: Aphrodite</title>\n",
            "</head>\n",
            "<body bgcolor=\"yellow\">\n",
            "<center>\n",
            "<br><br>\n",
            "<img src=\"/static/aphrodite.gif\" />\n",
            "<h2>Name: Aphrodite</h2>\n",
            "<br><br>\n",
            "Favorite animal: Dove\n",
            "<br><br>\n",
            "Favorite color: Red\n",
            "<br><br>\n",
            "Hometown: Mount Olympus\n",
            "</center>\n",
            "</body>\n",
            "</html>\n",
            "\n"
          ]
        }
      ]
    }
  ]
}